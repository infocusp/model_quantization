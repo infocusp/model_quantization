{
 "cells": [
  {
   "cell_type": "markdown",
   "metadata": {
    "id": "3tn3ozPunCVw"
   },
   "source": [
    "# Asymmetric and Symmetric Quantization\n",
    "\n",
    "## Notation:\n",
    "\n",
    "- alpha (max value): The maximum value of the input data.\n",
    "- beta (min value): The minimum value of the input data.\n",
    "- S (scale): The factor that maps floating-point values to integer values.\n",
    "- Z (zero-point): The offset applied to align the quantized values.\n",
    "\n",
    "---\n",
    "\n",
    "## Asymmetric Quantization\n",
    "\n",
    "1. **Compute Scale (S):**  \n",
    "   $$ S = \\frac{\\alpha - \\beta}{2^n - 1} $$\n",
    "\n",
    "2. **Compute Zero-Point (Z):**  \n",
    "   $$ Z = \\text{round} \\left(-\\frac{\\beta}{S} \\right) $$\n",
    "\n",
    "3. **Quantize Values:**  \n",
    "   $$ x_q = \\text{clip} \\left( \\text{round} \\left(\\frac{x}{S} \\right) + Z, 0, 2^n - 1 \\right) $$\n",
    "\n"
   ]
  },
  {
   "cell_type": "markdown",
   "metadata": {
    "id": "JDHc9SpGSzeK"
   },
   "source": [
    "---\n",
    "\n",
    "## Symmetric Quantization\n",
    "\n",
    "## Notation:\n",
    "\n",
    "- alpha : The absolute maximum value of the input data.\n",
    "- S (scale): The factor that maps floating-point values to integer values.\n",
    "- Z (zero-point): The offset applied to align the quantized values.\n",
    "\n",
    "1. **Compute Scale (S):**  \n",
    "   $$ S = \\frac{\\alpha}{2^{n-1} - 1} $$\n",
    "\n",
    "2. **Quantize Values:**  \n",
    "   $$ x_q = \\text{clip} \\left( \\text{round} \\left(\\frac{x}{S} \\right), - (2^{n-1} - 1), 2^{n-1} - 1 \\right) $$"
   ]
  },
  {
   "cell_type": "code",
   "execution_count": 1,
   "metadata": {
    "executionInfo": {
     "elapsed": 4,
     "status": "ok",
     "timestamp": 1741345901530,
     "user": {
      "displayName": "Sonu Jha",
      "userId": "08224750424869504364"
     },
     "user_tz": -330
    },
    "id": "DpNbPnMCltEs"
   },
   "outputs": [],
   "source": [
    "import numpy as np\n",
    "\n",
    "def asymmetric_quantization(x, alpha, beta, n_bits=8):\n",
    "    qmin, qmax = 0, 2**n_bits - 1  # Range for n-bit representation\n",
    "\n",
    "    # Compute scale and zero-point\n",
    "    S = (alpha - beta) / (qmax - qmin)\n",
    "    Z = int(round(-beta / S))\n",
    "\n",
    "    # Quantize values\n",
    "    x_q = np.clip(np.round(x / S) + Z, qmin, qmax).astype(int)\n",
    "\n",
    "    return x_q, S, Z\n",
    "\n",
    "def symmetric_quantization(x, alpha, n_bits=8):\n",
    "    qmin, qmax = -(2**(n_bits-1)), 2**(n_bits-1) - 1  # Symmetric range\n",
    "\n",
    "    # Compute scale\n",
    "    S = alpha / qmax\n",
    "\n",
    "    # Quantize values\n",
    "    x_q = np.clip(np.round(x / S), qmin, qmax).astype(int)\n",
    "\n",
    "    return x_q, S\n"
   ]
  },
  {
   "cell_type": "code",
   "execution_count": 2,
   "metadata": {
    "colab": {
     "base_uri": "https://localhost:8080/"
    },
    "executionInfo": {
     "elapsed": 6,
     "status": "ok",
     "timestamp": 1741345905422,
     "user": {
      "displayName": "Sonu Jha",
      "userId": "08224750424869504364"
     },
     "user_tz": -330
    },
    "id": "_KGaVIHsmi70",
    "outputId": "c3ca72b0-2b54-44ab-adf8-e7d920f06320"
   },
   "outputs": [
    {
     "name": "stdout",
     "output_type": "stream",
     "text": [
      "[ 2.34 -3.42  0.   -0.1  -0.32 -0.08 -0.47  1.34 -1.   -1.11  0.69  0.84\n",
      " -2.42  0.61 -0.4  -0.61  1.23 -0.18 -0.57 -0.14]\n"
     ]
    }
   ],
   "source": [
    "import numpy as np\n",
    "\n",
    "# Suppress scientific notation\n",
    "np.set_printoptions(suppress=True)\n",
    "\n",
    "# Generate randomly distributed parameters\n",
    "params = np.random.randn(20)\n",
    "\n",
    "# Make sure important values are at the beginning for better debugging\n",
    "params[0] = params.max() + 1\n",
    "params[1] = params.min() - 1\n",
    "params[2] = 0\n",
    "\n",
    "# Round each number to the second decimal place\n",
    "params = np.round(params, 2)\n",
    "\n",
    "# Print the parameters\n",
    "print(params)\n",
    "\n"
   ]
  },
  {
   "cell_type": "code",
   "execution_count": 3,
   "metadata": {
    "colab": {
     "base_uri": "https://localhost:8080/"
    },
    "executionInfo": {
     "elapsed": 6,
     "status": "ok",
     "timestamp": 1741345920976,
     "user": {
      "displayName": "Sonu Jha",
      "userId": "08224750424869504364"
     },
     "user_tz": -330
    },
    "id": "Xwbllp8DmmlI",
    "outputId": "060d295b-5780-46ff-9ba4-74accf148209"
   },
   "outputs": [
    {
     "name": "stdout",
     "output_type": "stream",
     "text": [
      "Asymmetric Quantization:\n",
      "Quantized values: [255   0 151 147 137 147 130 210 107 102 182 188  44 178 133 124 205 143\n",
      " 126 145]\n",
      "Scale (S): 0.022588235294117645\n",
      "Zero-point (Z): 151\n",
      "\n",
      "Symmetric Quantization:\n",
      "Quantized values: [ 127 -128    0   -5  -17   -4  -26   73  -54  -60   37   46 -128   33\n",
      "  -22  -33   67  -10  -31   -8]\n",
      "Scale (S): 0.0184251968503937\n"
     ]
    }
   ],
   "source": [
    "# Given vector and range\n",
    "alpha = max(params)  # max value\n",
    "beta = min(params)  # min value\n",
    "\n",
    "# Perform asymmetric quantization\n",
    "quantized_x_asym, scale_asym, zero_point_asym = asymmetric_quantization(params, alpha, beta)\n",
    "\n",
    "# Perform symmetric quantization\n",
    "quantized_x_sym, scale_sym = symmetric_quantization(params, alpha)\n",
    "\n",
    "# Print results\n",
    "print(\"Asymmetric Quantization:\")\n",
    "print(\"Quantized values:\", quantized_x_asym)\n",
    "print(\"Scale (S):\", scale_asym)\n",
    "print(\"Zero-point (Z):\", zero_point_asym)\n",
    "\n",
    "print(\"\\nSymmetric Quantization:\")\n",
    "print(\"Quantized values:\", quantized_x_sym)\n",
    "print(\"Scale (S):\", scale_sym)"
   ]
  },
  {
   "cell_type": "code",
   "execution_count": 4,
   "metadata": {
    "executionInfo": {
     "elapsed": 7,
     "status": "ok",
     "timestamp": 1741346425683,
     "user": {
      "displayName": "Sonu Jha",
      "userId": "08224750424869504364"
     },
     "user_tz": -330
    },
    "id": "4aHMg53uTkjn"
   },
   "outputs": [],
   "source": [
    "import numpy as np\n",
    "\n",
    "def asymmetric_d_quantization(x, S, Z):\n",
    "    # qmin, qmax = 0, 2**n_bits - 1  # Range for n-bit representation\n",
    "\n",
    "    # # Compute scale and zero-point\n",
    "    # S = (alpha - beta) / (qmax - qmin)\n",
    "    # Z = int(round(-beta / S))\n",
    "\n",
    "    # Quantize values\n",
    "    x_dq = (x - Z)* S\n",
    "\n",
    "    return x_dq\n",
    "\n",
    "def symmetric_d_quantization(x, S):\n",
    "\n",
    "    # Quantize values\n",
    "    x_dq = (x * S)\n",
    "\n",
    "    return x_dq\n"
   ]
  },
  {
   "cell_type": "markdown",
   "metadata": {
    "id": "ezvx-TDiViJc"
   },
   "source": [
    "# Quantization errors"
   ]
  },
  {
   "cell_type": "code",
   "execution_count": 6,
   "metadata": {
    "colab": {
     "base_uri": "https://localhost:8080/"
    },
    "executionInfo": {
     "elapsed": 9,
     "status": "ok",
     "timestamp": 1741346426860,
     "user": {
      "displayName": "Sonu Jha",
      "userId": "08224750424869504364"
     },
     "user_tz": -330
    },
    "id": "FfeNNR3DmQkU",
    "outputId": "12a28ce7-8510-4ac7-cf44-05a915867374"
   },
   "outputs": [
    {
     "name": "stdout",
     "output_type": "stream",
     "text": [
      "4.1563321799308393e-05\n",
      "0.05656446493892984\n"
     ]
    }
   ],
   "source": [
    "from sklearn.metrics import mean_squared_error\n",
    "\n",
    "print(mean_squared_error(params, asymmetric_d_quantization(quantized_x_asym, scale_asym, zero_point_asym)))\n",
    "print(mean_squared_error(params, symmetric_d_quantization(quantized_x_sym, scale_sym)))"
   ]
  },
  {
   "cell_type": "code",
   "execution_count": null,
   "metadata": {
    "id": "PUmNmNeiVH4G"
   },
   "outputs": [],
   "source": []
  }
 ],
 "metadata": {
  "colab": {
   "authorship_tag": "ABX9TyPQiJzHzrsWv4ilREBAPEoa",
   "provenance": []
  },
  "kernelspec": {
   "display_name": "Python 3 (ipykernel)",
   "language": "python",
   "name": "python3"
  },
  "language_info": {
   "codemirror_mode": {
    "name": "ipython",
    "version": 3
   },
   "file_extension": ".py",
   "mimetype": "text/x-python",
   "name": "python",
   "nbconvert_exporter": "python",
   "pygments_lexer": "ipython3",
   "version": "3.11.11"
  }
 },
 "nbformat": 4,
 "nbformat_minor": 4
}
